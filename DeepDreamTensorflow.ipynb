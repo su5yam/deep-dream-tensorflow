{
  "nbformat": 4,
  "nbformat_minor": 0,
  "metadata": {
    "colab": {
      "name": "DeepDreamTensorflow.ipynb",
      "provenance": [],
      "collapsed_sections": [
        "3yShQFJrPQ2S"
      ],
      "authorship_tag": "ABX9TyPUo+54En5CRwOudMLR1dh4",
      "include_colab_link": true
    },
    "kernelspec": {
      "name": "python3",
      "display_name": "Python 3"
    },
    "language_info": {
      "name": "python"
    },
    "accelerator": "GPU"
  },
  "cells": [
    {
      "cell_type": "markdown",
      "metadata": {
        "id": "view-in-github",
        "colab_type": "text"
      },
      "source": [
        "<a href=\"https://colab.research.google.com/github/su5yam/deep-dream-tensorflow/blob/master/DeepDreamTensorflow.ipynb\" target=\"_parent\"><img src=\"https://colab.research.google.com/assets/colab-badge.svg\" alt=\"Open In Colab\"/></a>"
      ]
    },
    {
      "cell_type": "markdown",
      "metadata": {
        "id": "3yShQFJrPQ2S"
      },
      "source": [
        "#**Setup**"
      ]
    },
    {
      "cell_type": "code",
      "metadata": {
        "colab": {
          "base_uri": "https://localhost:8080/"
        },
        "id": "wz6CkGXCzXnE",
        "outputId": "47c29834-ed48-4326-8ddc-e6a180009b78"
      },
      "source": [
        "!nvidia-smi -L"
      ],
      "execution_count": 1,
      "outputs": [
        {
          "output_type": "stream",
          "text": [
            "GPU 0: Tesla T4 (UUID: GPU-b585d595-4458-3742-82d1-8b0bb6292ada)\n"
          ],
          "name": "stdout"
        }
      ]
    },
    {
      "cell_type": "code",
      "metadata": {
        "colab": {
          "base_uri": "https://localhost:8080/"
        },
        "id": "y5e7oUx13IZ4",
        "outputId": "2869860a-3f8d-42f1-a177-736c4ad69217"
      },
      "source": [
        "%tensorflow_version 1.x"
      ],
      "execution_count": 2,
      "outputs": [
        {
          "output_type": "stream",
          "text": [
            "TensorFlow 1.x selected.\n"
          ],
          "name": "stdout"
        }
      ]
    },
    {
      "cell_type": "code",
      "metadata": {
        "id": "lHrzSeg51Kec"
      },
      "source": [
        "!git clone https://github.com/su5yam/deep-dream-tensorflow.git --branch master -q"
      ],
      "execution_count": 3,
      "outputs": []
    },
    {
      "cell_type": "code",
      "metadata": {
        "colab": {
          "base_uri": "https://localhost:8080/"
        },
        "id": "E5YXM8sj28XV",
        "outputId": "4b6e9a6d-7ed3-4c00-dd92-c80909332bff"
      },
      "source": [
        "cd /content/deep-dream-tensorflow"
      ],
      "execution_count": 4,
      "outputs": [
        {
          "output_type": "stream",
          "text": [
            "/content/deep-dream-tensorflow\n"
          ],
          "name": "stdout"
        }
      ]
    },
    {
      "cell_type": "markdown",
      "metadata": {
        "id": "OM3tCJyXPUW5"
      },
      "source": [
        "#**Script**"
      ]
    },
    {
      "cell_type": "markdown",
      "metadata": {
        "id": "bnyvVDkm_WtS"
      },
      "source": [
        "**Deep Dream**"
      ]
    },
    {
      "cell_type": "code",
      "metadata": {
        "id": "12kpwOF03BGF"
      },
      "source": [
        "!python dreamer.py \\\n",
        "-oct 5 \\\n",
        "-octs 1.4 \\\n",
        "-itr 15 \\\n",
        "-s 1.2 \\\n",
        "-c 16 \\\n",
        "-l mixed5b_pool_reduce_pre_relu \\"
      ],
      "execution_count": null,
      "outputs": []
    },
    {
      "cell_type": "markdown",
      "metadata": {
        "id": "RamtvcP1_RRA"
      },
      "source": [
        "**Print All Layers**"
      ]
    },
    {
      "cell_type": "code",
      "metadata": {
        "id": "jdN8XvB3_LY_"
      },
      "source": [
        "!python dreamer.py \\\n",
        "-p 1 \\"
      ],
      "execution_count": null,
      "outputs": []
    }
  ]
}